{
 "cells": [
  {
   "cell_type": "code",
   "execution_count": 1,
   "metadata": {},
   "outputs": [
    {
     "data": {
      "text/plain": [
       "[[3.04, 3.39, 6.7],\n",
       " [5.8, 6.41, 6.62],\n",
       " [2.59, 3.57, 9.16],\n",
       " [3.81, 8.78, 9.24],\n",
       " [8.91, 9.64, 6.39]]"
      ]
     },
     "execution_count": 1,
     "metadata": {},
     "output_type": "execute_result"
    }
   ],
   "source": [
    "import csv\n",
    "#Đọc file CSV và lưu trữ dữu liệu vào một list\n",
    "file_path = 'D:/DHKL17A2HN_PYTHON NC/BAITAP_LAB/Lab_2/diem_hoc_phan.csv'\n",
    "data = []\n",
    "with open(file_path, newline='', encoding='utf-8') as csvfile:\n",
    "    reader = csv.reader(csvfile)\n",
    "    next(reader)  # Bỏ qua hàng đầu tiên (tiêu đề cột)\n",
    "    '''\n",
    "    Xử lý dữ liệu từ Mỗi hàng: Với mỗi hàng row trong file csv\n",
    "    code sẽ lấy phần tử chỉ số thứ 2 trở đi (row[2:]).\n",
    "    Điều này tương ứng với việc bỏ qua cột 'id' và 'tên sinh viên ',\n",
    "    '''\n",
    "    for row in reader:\n",
    "        #Chuyển đổi điểm số từ string sang float và thêm vào list\n",
    "        data.append([float(score) for score in row[2:]])\n",
    "#Hiển thị một phần của dữ liệu để kiểm tra\n",
    "data[:5]  # hiển thị 5 dòng đầu tiên"
   ]
  },
  {
   "cell_type": "code",
   "execution_count": 2,
   "metadata": {},
   "outputs": [
    {
     "name": "stdout",
     "output_type": "stream",
     "text": [
      "Dữ liệu gốc:\n",
      "[['1' 'Nguyễn Văn Bình' '3.04' '3.39' '6.7']\n",
      " ['2' 'Lê Thị Na' '5.8' '6.41' '6.62']\n",
      " ['3' 'Trần Văn Thành' '2.59' '3.57' '9.16']\n",
      " ['4' 'Phạm Thị Hồng' '3.81' '8.78' '9.24']\n",
      " ['5' 'Bùi Văn An' '8.91' '9.64' '6.39']\n",
      " ['6' 'Hoàng Thị Lan' '3.23' '4.72' '6.17']\n",
      " ['7' 'Vũ Văn Hùng' '2.35' '3.29' '6.89']\n",
      " ['8' 'Đặng Thị Mai' '2.48' '3.81' '4.84']\n",
      " ['9' 'Đỗ Văn Hải' '3.23' '2.61' '4.52']\n",
      " ['10' 'Ngô Thị Thanh' '7.02' '9.01' '9.15']\n",
      " ['11' 'Lương Văn Dũng' '2.29' '4.48' '5.51']\n",
      " ['12' 'Mai Thị Hằng' '3.51' '7.19' '5.13']\n",
      " ['13' 'Dương Văn Long' '6.74' '7.78' '6.19']\n",
      " ['14' 'Nguyễn Thị Hà' '9.86' '4.64' '3.33']\n",
      " ['15' 'Trần Văn Tuấn' '8.04' '5.12' '4.77']\n",
      " ['16' 'Lê Văn Phúc' '2.74' '8.88' '5.8']\n",
      " ['17' 'Phạm Thị Nhung' '3.04' '6.88' '3.91']\n",
      " ['18' 'Hoàng Văn Nam' '5.87' '4.41' '8.84']\n",
      " ['19' 'Bùi Thị Lan' '8.46' '2.63' '4.91']\n",
      " ['20' 'Vũ Thị Thanh' '3.74' '6.71' '3.44']\n",
      " ['21' 'Đặng Văn Hùng' '5.67' '8.05' '6.03']\n",
      " ['22' 'Đỗ Thị Hồng' '8.12' '2.46' '3.87']\n",
      " ['23' 'Ngô Văn Thành' '9.4' '5.31' '5.13']\n",
      " ['24' 'Lương Thị Mai' '3.91' '5.09' '8.82']\n",
      " ['25' 'Mai Văn Dũng' '4.26' '5.78' '8.14']\n",
      " ['26' 'Dương Thị Hằng' '4.41' '2.66' '5.4']\n",
      " ['27' 'Nguyễn Văn Long' '3.23' '8.3' '8.64']\n",
      " ['28' 'Trần Thị Hà' '9.25' '8.29' '9.1']\n",
      " ['29' 'Lê Văn Tuấn' '6.08' '2.67' '6.39']\n",
      " ['30' 'Phạm Thị Phúc' '3.85' '7.71' '5.75']]\n"
     ]
    }
   ],
   "source": [
    "import numpy as np\n",
    "import csv\n",
    "# Đọc dữ liệu từ file CSV\n",
    "file_path = 'D:/DHKL17A2HN_PYTHON NC/BAITAP_LAB/Lab_2/diem_hoc_phan.csv'\n",
    "with open(file_path, mode='r', encoding='utf-8') as file:\n",
    "    reader = csv.reader(file)\n",
    "    header = next(reader)  # Lấy dòng tiêu đề\n",
    "    data = [row for row in reader]  # Đọc tất cả các dòng dữ liệu\n",
    "# Chuyển đổi dữ liệu thành NumPy array\n",
    "data_array = np.array(data)\n",
    "print(\"Dữ liệu gốc:\")\n",
    "print(data_array)"
   ]
  },
  {
   "cell_type": "code",
   "execution_count": 3,
   "metadata": {},
   "outputs": [
    {
     "name": "stdout",
     "output_type": "stream",
     "text": [
      "Điểm quy đổi:\n",
      "[['F' 'F' 'C+']\n",
      " ['C' 'C' 'C+']\n",
      " ['F' 'F' 'A']\n",
      " ['F' 'A' 'A']\n",
      " ['A' 'A' 'C']\n",
      " ['F' 'D' 'C']\n",
      " ['F' 'F' 'C+']\n",
      " ['F' 'F' 'D']\n",
      " ['F' 'F' 'D']\n",
      " ['B' 'A' 'A']\n",
      " ['F' 'D' 'C']\n",
      " ['F' 'B' 'D+']\n",
      " ['C+' 'B' 'C']\n",
      " ['A' 'D' 'F']\n",
      " ['B+' 'D+' 'D']\n",
      " ['F' 'A' 'C']\n",
      " ['F' 'C+' 'F']\n",
      " ['C' 'D' 'A']\n",
      " ['B+' 'F' 'D']\n",
      " ['F' 'C+' 'F']\n",
      " ['C' 'B+' 'C']\n",
      " ['B+' 'F' 'F']\n",
      " ['A' 'D+' 'D+']\n",
      " ['F' 'D+' 'A']\n",
      " ['D' 'C' 'B+']\n",
      " ['D' 'F' 'D+']\n",
      " ['F' 'B+' 'A']\n",
      " ['A' 'B+' 'A']\n",
      " ['C' 'F' 'C']\n",
      " ['F' 'B' 'C']]\n"
     ]
    }
   ],
   "source": [
    "def convert_grade(score):\n",
    "    score = float(score)\n",
    "    if 8.5 <= score <= 10:\n",
    "        return 'A'\n",
    "    elif 8.0 <= score < 8.5:\n",
    "        return 'B+'\n",
    "    elif 7.0 <= score < 8.0:\n",
    "        return 'B'\n",
    "    elif 6.5 <= score < 7.0:\n",
    "        return 'C+'\n",
    "    elif 5.5 <= score < 6.5:\n",
    "        return 'C'\n",
    "    elif 5.0 <= score < 5.5:\n",
    "        return 'D+'\n",
    "    elif 4.0 <= score < 5.0:\n",
    "        return 'D'\n",
    "    else:\n",
    "        return 'F'\n",
    "# Áp dụng quy đổi điểm chữ\n",
    "grades = np.vectorize(convert_grade)(data_array[:, 2:].astype(float))\n",
    "print(\"Điểm quy đổi:\")\n",
    "print(grades)"
   ]
  },
  {
   "cell_type": "code",
   "execution_count": 4,
   "metadata": {},
   "outputs": [
    {
     "name": "stdout",
     "output_type": "stream",
     "text": [
      "Điểm HP1: [3.04 5.8  2.59 3.81 8.91 3.23 2.35 2.48 3.23 7.02 2.29 3.51 6.74 9.86\n",
      " 8.04 2.74 3.04 5.87 8.46 3.74 5.67 8.12 9.4  3.91 4.26 4.41 3.23 9.25\n",
      " 6.08 3.85]\n",
      "Điểm HP2: [3.39 6.41 3.57 8.78 9.64 4.72 3.29 3.81 2.61 9.01 4.48 7.19 7.78 4.64\n",
      " 5.12 8.88 6.88 4.41 2.63 6.71 8.05 2.46 5.31 5.09 5.78 2.66 8.3  8.29\n",
      " 2.67 7.71]\n",
      "Điểm HP3: [6.7  6.62 9.16 9.24 6.39 6.17 6.89 4.84 4.52 9.15 5.51 5.13 6.19 3.33\n",
      " 4.77 5.8  3.91 8.84 4.91 3.44 6.03 3.87 5.13 8.82 8.14 5.4  8.64 9.1\n",
      " 6.39 5.75]\n"
     ]
    }
   ],
   "source": [
    "hp1_scores = data_array[:, 2].astype(float)\n",
    "hp2_scores = data_array[:, 3].astype(float)\n",
    "hp3_scores = data_array[:, 4].astype(float)\n",
    "print(\"Điểm HP1:\", hp1_scores)\n",
    "print(\"Điểm HP2:\", hp2_scores)\n",
    "print(\"Điểm HP3:\", hp3_scores)"
   ]
  },
  {
   "cell_type": "code",
   "execution_count": 5,
   "metadata": {},
   "outputs": [
    {
     "name": "stdout",
     "output_type": "stream",
     "text": [
      "HP1 - Tổng: 154.92999999999998 Trung bình: 5.1643333333333326 Độ lệch chuẩn: 2.4078519934211533\n",
      "HP2 - Tổng: 170.27 Trung bình: 5.675666666666667 Độ lệch chuẩn: 2.2494765070023637\n",
      "HP3 - Tổng: 188.78 Trung bình: 6.292666666666666 Độ lệch chuẩn: 1.8082292135923723\n"
     ]
    }
   ],
   "source": [
    "def analyze_scores(scores):\n",
    "    total = np.sum(scores)\n",
    "    mean = np.mean(scores)\n",
    "    std_dev = np.std(scores)\n",
    "    return total, mean, std_dev\n",
    "hp1_stats = analyze_scores(hp1_scores)\n",
    "hp2_stats = analyze_scores(hp2_scores)\n",
    "hp3_stats = analyze_scores(hp3_scores)\n",
    "print(\"HP1 - Tổng:\", hp1_stats[0], \"Trung bình:\", hp1_stats[1], \"Độ lệch chuẩn:\", hp1_stats[2])\n",
    "print(\"HP2 - Tổng:\", hp2_stats[0], \"Trung bình:\", hp2_stats[1], \"Độ lệch chuẩn:\", hp2_stats[2])\n",
    "print(\"HP3 - Tổng:\", hp3_stats[0], \"Trung bình:\", hp3_stats[1], \"Độ lệch chuẩn:\", hp3_stats[2])"
   ]
  },
  {
   "cell_type": "code",
   "execution_count": 6,
   "metadata": {},
   "outputs": [
    {
     "name": "stdout",
     "output_type": "stream",
     "text": [
      "Phân bố điểm tổng hợp:\n",
      "A: 15\n",
      "B: 4\n",
      "B+: 7\n",
      "C: 14\n",
      "C+: 6\n",
      "D: 10\n",
      "D+: 6\n",
      "F: 28\n"
     ]
    }
   ],
   "source": [
    "grade_counts = np.unique(grades, return_counts=True)\n",
    "grade_distribution = dict(zip(grade_counts[0], grade_counts[1]))\n",
    "print(\"Phân bố điểm tổng hợp:\")\n",
    "for grade, count in grade_distribution.items():\n",
    "    print(f\"{grade}: {count}\")"
   ]
  }
 ],
 "metadata": {
  "kernelspec": {
   "display_name": "base",
   "language": "python",
   "name": "python3"
  },
  "language_info": {
   "codemirror_mode": {
    "name": "ipython",
    "version": 3
   },
   "file_extension": ".py",
   "mimetype": "text/x-python",
   "name": "python",
   "nbconvert_exporter": "python",
   "pygments_lexer": "ipython3",
   "version": "3.12.4"
  }
 },
 "nbformat": 4,
 "nbformat_minor": 2
}
