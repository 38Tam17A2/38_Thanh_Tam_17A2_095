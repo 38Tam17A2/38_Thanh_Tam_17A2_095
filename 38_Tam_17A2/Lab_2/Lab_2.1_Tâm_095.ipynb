{
 "cells": [
  {
   "cell_type": "markdown",
   "metadata": {},
   "source": [
    "CÂU 1"
   ]
  },
  {
   "cell_type": "code",
   "execution_count": 1,
   "metadata": {},
   "outputs": [
    {
     "name": "stdout",
     "output_type": "stream",
     "text": [
      "Nhiệt độ trong tháng:\n",
      " [11.99 12.94 18.02 11.27 25.06 22.23 15.85 19.23 15.19 14.72 21.82 10.94\n",
      " 19.61 23.58 16.26 23.26 10.69 15.13 21.59 23.44 28.87 24.08 18.14 18.67\n",
      " 12.57 21.51 21.39 22.46 11.68 17.46]\n",
      "Trung bình nhiệt độ trong tháng là: 18.321666666666665\n"
     ]
    }
   ],
   "source": [
    "import numpy as np\n",
    "nhiet_do = np.round(np.random.uniform(10.0, 30.0, size = 30),2)\n",
    "print(\"Nhiệt độ trong tháng:\\n\",nhiet_do)\n",
    "print(\"Trung bình nhiệt độ trong tháng là:\", np.mean(nhiet_do))"
   ]
  },
  {
   "cell_type": "markdown",
   "metadata": {},
   "source": [
    "CÂU 2"
   ]
  },
  {
   "cell_type": "code",
   "execution_count": 2,
   "metadata": {},
   "outputs": [
    {
     "name": "stdout",
     "output_type": "stream",
     "text": [
      "Nhiệt độ ngày cao nhất trong tháng là: 28.87\n",
      "Nhiệt độ ngày thấp nhất trong tháng là: 10.69\n",
      "Ngày có nhiệt độ cao nhất trong tháng là: 21\n",
      "Ngày có nhiệt độ thấp nhất trong tháng là: 17\n"
     ]
    }
   ],
   "source": [
    "# tìm nhiệt dộ max and min\n",
    "max_temp = np.max(nhiet_do)\n",
    "min_temp = np.min(nhiet_do)\n",
    "# xác định ngày có nhiệt độ cao nhất và thấp nhất\n",
    "# chú ý: ngày được tính từ 1, không phai 0\n",
    "day_max_temp = np.argmax(nhiet_do) + 1\n",
    "day_min_temp = np.argmin(nhiet_do) + 1\n",
    "print(f\"Nhiệt độ ngày cao nhất trong tháng là:\", max_temp)\n",
    "print(f\"Nhiệt độ ngày thấp nhất trong tháng là:\", min_temp)\n",
    "print(f\"Ngày có nhiệt độ cao nhất trong tháng là:\", day_max_temp)\n",
    "print(f\"Ngày có nhiệt độ thấp nhất trong tháng là:\", day_min_temp)"
   ]
  },
  {
   "cell_type": "code",
   "execution_count": 3,
   "metadata": {},
   "outputs": [
    {
     "name": "stdout",
     "output_type": "stream",
     "text": [
      "Nhiệt độ chênh lệch giữa các ngày: 3\n",
      "Nhiệt độ chênh lệch co sự biến đổi nhiệt cao nhất là: -6.75\n"
     ]
    }
   ],
   "source": [
    "# tạo mảng chứa nhiệt độ  của ngày hôm truớc ( trừ ngày cuối cùng) của mảng nhiet_do\n",
    "ngay_truoc = nhiet_do[:-1]\n",
    "# tao mảng chứa nhiệt độ của  ngày hôm sau ( trừ ngà đàu tiên ) của mảng nhiệt độ\n",
    "ngay_sau = nhiet_do[1:]\n",
    "# tính toán sự chênh lệch nhiệt độ giữa ngày hôm sau và ngày hôm trước\n",
    "chenh_lech = ngay_sau - ngay_truoc\n",
    "# xác định ngày có sự chênh lệch nhiệt độ lonws nhất\n",
    "dff_max = np.argmax(np.abs(chenh_lech))\n",
    "max_chenh_lech = chenh_lech[dff_max - 1]\n",
    "print(f\"Nhiệt độ chênh lệch giữa các ngày:\",dff_max)\n",
    "print(f\"Nhiệt độ chênh lệch co sự biến đổi nhiệt cao nhất là:\",max_chenh_lech)"
   ]
  },
  {
   "cell_type": "markdown",
   "metadata": {},
   "source": [
    "CÂU 3"
   ]
  },
  {
   "cell_type": "code",
   "execution_count": 4,
   "metadata": {},
   "outputs": [
    {
     "name": "stdout",
     "output_type": "stream",
     "text": [
      "Các ngày có nhiệt độ trên 20°C: [ 5  6 11 14 16 19 20 21 22 26 27 28]\n",
      "Nhiệt độ các ngày 5, 10, 15, 20 và 25: [25.06 14.72 16.26 23.44 12.57]\n",
      "Nhiệt độ trên trung bình: [25.06 22.23 19.23 21.82 19.61 23.58 23.26 21.59 23.44 28.87 24.08 18.67\n",
      " 21.51 21.39 22.46]\n",
      "Nhiệt độ các ngày chẵn: [12.94 11.27 22.23 19.23 14.72 10.94 23.58 23.26 15.13 23.44 24.08 18.67\n",
      " 21.51 22.46 17.46]\n",
      "Nhiệt độ các ngày lẻ: [11.99 18.02 25.06 15.85 15.19 21.82 19.61 16.26 10.69 21.59 28.87 18.14\n",
      " 12.57 21.39 11.68]\n"
     ]
    }
   ],
   "source": [
    "# Các ngày có nhiệt độ trên 20°C\n",
    "ngay_tren_20 = np.where(nhiet_do > 20)[0] + 1\n",
    "# Nhiệt độ của các ngày cụ thể\n",
    "ngay_can_kiem_tra = [5, 10, 15, 20, 25]\n",
    "nhiet_do_cac_ngay = nhiet_do[[d - 1 for d in ngay_can_kiem_tra]]\n",
    "# Nhiệt độ trên trung bình\n",
    "nhiet_do_tren_tb = nhiet_do[nhiet_do > np.mean(nhiet_do)]\n",
    "# Nhiệt độ của các ngày chẵn và lẻ\n",
    "nhiet_do_ngay_chan = nhiet_do[1::2]  \n",
    "nhiet_do_ngay_le = nhiet_do[0::2]  \n",
    "print(\"Các ngày có nhiệt độ trên 20°C:\", ngay_tren_20)\n",
    "print(\"Nhiệt độ các ngày 5, 10, 15, 20 và 25:\", nhiet_do_cac_ngay)\n",
    "print(\"Nhiệt độ trên trung bình:\", nhiet_do_tren_tb)\n",
    "print(\"Nhiệt độ các ngày chẵn:\", nhiet_do_ngay_chan)\n",
    "print(\"Nhiệt độ các ngày lẻ:\", nhiet_do_ngay_le)"
   ]
  }
 ],
 "metadata": {
  "kernelspec": {
   "display_name": "base",
   "language": "python",
   "name": "python3"
  },
  "language_info": {
   "codemirror_mode": {
    "name": "ipython",
    "version": 3
   },
   "file_extension": ".py",
   "mimetype": "text/x-python",
   "name": "python",
   "nbconvert_exporter": "python",
   "pygments_lexer": "ipython3",
   "version": "3.12.4"
  }
 },
 "nbformat": 4,
 "nbformat_minor": 2
}
